{
 "cells": [
  {
   "cell_type": "code",
   "execution_count": 1,
   "metadata": {},
   "outputs": [],
   "source": [
    "import numpy as np\n",
    "import scanpy.api as sc\n",
    "import pandas as pd\n",
    "\n",
    "import os\n",
    "import pandas as pd\n",
    "import mnnpy\n",
    "import matplotlib"
   ]
  },
  {
   "cell_type": "code",
   "execution_count": 2,
   "metadata": {},
   "outputs": [],
   "source": [
    "import scanorama"
   ]
  },
  {
   "cell_type": "code",
   "execution_count": 3,
   "metadata": {},
   "outputs": [],
   "source": [
    "human_dge = sc.AnnData(pd.read_csv(\"./Human/Human_cell100_orth.csv\").fillna(0).T )\n",
    "mouse_dge = sc.AnnData(pd.read_csv(\"./Mouse/Mouse_cell100_orth.csv\").fillna(0).T )"
   ]
  },
  {
   "cell_type": "code",
   "execution_count": 4,
   "metadata": {},
   "outputs": [
    {
     "name": "stdout",
     "output_type": "stream",
     "text": [
      "(21702, 16679) (25403, 16679)\n"
     ]
    }
   ],
   "source": [
    "print(mouse_dge.shape, human_dge.shape)"
   ]
  },
  {
   "cell_type": "code",
   "execution_count": null,
   "metadata": {},
   "outputs": [
    {
     "name": "stdout",
     "output_type": "stream",
     "text": [
      "Found 16679 genes among all datasets\n",
      "[[0.         0.35775505]\n",
      " [0.         0.        ]]\n",
      "Processing datasets (0, 1)\n"
     ]
    },
    {
     "name": "stderr",
     "output_type": "stream",
     "text": [
      "/home/ggj/anaconda3/lib/python3.7/site-packages/scipy/sparse/lil.py:512: FutureWarning: future versions will not create a writeable array from broadcast_array. Set the writable flag explicitly to avoid this warning.\n",
      "  if not i.flags.writeable or i.dtype not in (np.int32, np.int64):\n",
      "/home/ggj/anaconda3/lib/python3.7/site-packages/scipy/sparse/lil.py:514: FutureWarning: future versions will not create a writeable array from broadcast_array. Set the writable flag explicitly to avoid this warning.\n",
      "  if not j.flags.writeable or j.dtype not in (np.int32, np.int64):\n"
     ]
    }
   ],
   "source": [
    "intergrated, corrected = scanorama.correct_scanpy([human_dge, mouse_dge], return_dimred=True)\n",
    "corrected_human_dge, corrected_mouse_dge = corrected\n",
    "corrected_merged_dge = corrected_human_dge.concatenate(corrected_mouse_dge, join='outer')"
   ]
  },
  {
   "cell_type": "code",
   "execution_count": 6,
   "metadata": {},
   "outputs": [
    {
     "data": {
      "text/plain": [
       "AnnData object with n_obs × n_vars = 47105 × 2760 \n",
       "    obs: 'batch'"
      ]
     },
     "execution_count": 6,
     "metadata": {},
     "output_type": "execute_result"
    }
   ],
   "source": [
    "corrected_merged_dge"
   ]
  },
  {
   "cell_type": "code",
   "execution_count": 67,
   "metadata": {},
   "outputs": [],
   "source": [
    "corrected_merged_dge.write('./corrected_merged_mouse_human_dge.h5ad')"
   ]
  },
  {
   "cell_type": "code",
   "execution_count": 7,
   "metadata": {},
   "outputs": [],
   "source": [
    "##scanpy_visualization\n",
    "sc.pp.normalize_per_cell(corrected_merged_dge, counts_per_cell_after=1e6)\n",
    "sc.pp.scale(corrected_merged_dge)"
   ]
  },
  {
   "cell_type": "code",
   "execution_count": 8,
   "metadata": {},
   "outputs": [],
   "source": [
    "sc.tl.pca(corrected_merged_dge)"
   ]
  },
  {
   "cell_type": "code",
   "execution_count": 17,
   "metadata": {},
   "outputs": [
    {
     "name": "stdout",
     "output_type": "stream",
     "text": [
      "saving figure to file ./figures/pca_variance_ratio_pca.png\n"
     ]
    },
    {
     "name": "stderr",
     "output_type": "stream",
     "text": [
      "/home/ggj/anaconda3/lib/python3.7/site-packages/matplotlib/figure.py:445: UserWarning: Matplotlib is currently using agg, which is a non-GUI backend, so cannot show the figure.\n",
      "  % get_backend())\n",
      "/home/ggj/anaconda3/lib/python3.7/site-packages/matplotlib/figure.py:445: UserWarning: Matplotlib is currently using agg, which is a non-GUI backend, so cannot show the figure.\n",
      "  % get_backend())\n",
      "/home/ggj/anaconda3/lib/python3.7/site-packages/matplotlib/figure.py:445: UserWarning: Matplotlib is currently using agg, which is a non-GUI backend, so cannot show the figure.\n",
      "  % get_backend())\n"
     ]
    }
   ],
   "source": [
    "sc.pl.pca_variance_ratio(corrected_merged_dge, n_pcs=50, log=False, save=\"_pca.png\")"
   ]
  },
  {
   "cell_type": "code",
   "execution_count": 18,
   "metadata": {},
   "outputs": [],
   "source": [
    "sc.pp.neighbors(corrected_merged_dge, n_neighbors=10, n_pcs=40)"
   ]
  },
  {
   "cell_type": "code",
   "execution_count": 19,
   "metadata": {},
   "outputs": [],
   "source": [
    "sc.tl.tsne(corrected_merged_dge, n_pcs=40, learning_rate=1000, perplexity=100, early_exaggeration=20, use_fast_tsne=True, n_jobs=25)"
   ]
  },
  {
   "cell_type": "code",
   "execution_count": 22,
   "metadata": {},
   "outputs": [
    {
     "name": "stdout",
     "output_type": "stream",
     "text": [
      "saving figure to file ./figures/tsne_batch_merged.pdf\n"
     ]
    },
    {
     "name": "stderr",
     "output_type": "stream",
     "text": [
      "/home/ggj/anaconda3/lib/python3.7/site-packages/matplotlib/figure.py:445: UserWarning: Matplotlib is currently using agg, which is a non-GUI backend, so cannot show the figure.\n",
      "  % get_backend())\n",
      "/home/ggj/anaconda3/lib/python3.7/site-packages/matplotlib/figure.py:445: UserWarning: Matplotlib is currently using agg, which is a non-GUI backend, so cannot show the figure.\n",
      "  % get_backend())\n",
      "/home/ggj/anaconda3/lib/python3.7/site-packages/matplotlib/figure.py:445: UserWarning: Matplotlib is currently using agg, which is a non-GUI backend, so cannot show the figure.\n",
      "  % get_backend())\n",
      "/home/ggj/anaconda3/lib/python3.7/site-packages/matplotlib/figure.py:445: UserWarning: Matplotlib is currently using agg, which is a non-GUI backend, so cannot show the figure.\n",
      "  % get_backend())\n"
     ]
    }
   ],
   "source": [
    "col1=[\"#2685cb\", \"#fd8d14\"]\n",
    "sc.pl.tsne(corrected_merged_dge, color='batch', palette=col1, save='_batch_merged.pdf')"
   ]
  },
  {
   "cell_type": "code",
   "execution_count": 29,
   "metadata": {},
   "outputs": [
    {
     "data": {
      "text/plain": [
       "Index(['0-0', '1-0', '2-0', '3-0', '4-0', '5-0', '6-0', '7-0', '8-0', '9-0',\n",
       "       ...\n",
       "       '21692-1', '21693-1', '21694-1', '21695-1', '21696-1', '21697-1',\n",
       "       '21698-1', '21699-1', '21700-1', '21701-1'],\n",
       "      dtype='object', length=47105)"
      ]
     },
     "execution_count": 29,
     "metadata": {},
     "output_type": "execute_result"
    }
   ],
   "source": [
    "corrected_merged_dge.obs_names"
   ]
  },
  {
   "cell_type": "code",
   "execution_count": 23,
   "metadata": {},
   "outputs": [],
   "source": [
    "mouse_anno = pd.read_table(\"./Mouse/Mouse.SRS.phe2\", header=0)\n",
    "human_anno = pd.read_table(\"./Human/Human.SRS.phe2\", header=0)"
   ]
  },
  {
   "cell_type": "code",
   "execution_count": 24,
   "metadata": {},
   "outputs": [
    {
     "name": "stdout",
     "output_type": "stream",
     "text": [
      "(21702, 3) (25403, 3)\n"
     ]
    }
   ],
   "source": [
    "print(mouse_anno.shape, human_anno.shape)"
   ]
  },
  {
   "cell_type": "code",
   "execution_count": 25,
   "metadata": {},
   "outputs": [
    {
     "data": {
      "text/html": [
       "<div>\n",
       "<style scoped>\n",
       "    .dataframe tbody tr th:only-of-type {\n",
       "        vertical-align: middle;\n",
       "    }\n",
       "\n",
       "    .dataframe tbody tr th {\n",
       "        vertical-align: top;\n",
       "    }\n",
       "\n",
       "    .dataframe thead th {\n",
       "        text-align: right;\n",
       "    }\n",
       "</style>\n",
       "<table border=\"1\" class=\"dataframe\">\n",
       "  <thead>\n",
       "    <tr style=\"text-align: right;\">\n",
       "      <th></th>\n",
       "      <th>CellID</th>\n",
       "      <th>Tissue</th>\n",
       "      <th>Celltype</th>\n",
       "    </tr>\n",
       "  </thead>\n",
       "  <tbody>\n",
       "    <tr>\n",
       "      <th>0</th>\n",
       "      <td>AdultDuodenum_1.AGGACTACAATACCGCTA</td>\n",
       "      <td>Human</td>\n",
       "      <td>Plasmocyte A.h</td>\n",
       "    </tr>\n",
       "    <tr>\n",
       "      <th>1</th>\n",
       "      <td>AdultSpleenParenchyma_1.AGATGGGTTGCCACAATA</td>\n",
       "      <td>Human</td>\n",
       "      <td>Plasmocyte A.h</td>\n",
       "    </tr>\n",
       "    <tr>\n",
       "      <th>2</th>\n",
       "      <td>AdultColon_1.CAAAGTACCTGAAACCTA</td>\n",
       "      <td>Human</td>\n",
       "      <td>Plasmocyte A.h</td>\n",
       "    </tr>\n",
       "    <tr>\n",
       "      <th>3</th>\n",
       "      <td>AdultEsophagus_1.CGCACCCTGAAATGCGGA</td>\n",
       "      <td>Human</td>\n",
       "      <td>Plasmocyte A.h</td>\n",
       "    </tr>\n",
       "    <tr>\n",
       "      <th>4</th>\n",
       "      <td>AdultSpleen_1.TGCAATACTTATGTCCCG</td>\n",
       "      <td>Human</td>\n",
       "      <td>Plasmocyte A.h</td>\n",
       "    </tr>\n",
       "  </tbody>\n",
       "</table>\n",
       "</div>"
      ],
      "text/plain": [
       "                                       CellID Tissue        Celltype\n",
       "0          AdultDuodenum_1.AGGACTACAATACCGCTA  Human  Plasmocyte A.h\n",
       "1  AdultSpleenParenchyma_1.AGATGGGTTGCCACAATA  Human  Plasmocyte A.h\n",
       "2             AdultColon_1.CAAAGTACCTGAAACCTA  Human  Plasmocyte A.h\n",
       "3         AdultEsophagus_1.CGCACCCTGAAATGCGGA  Human  Plasmocyte A.h\n",
       "4            AdultSpleen_1.TGCAATACTTATGTCCCG  Human  Plasmocyte A.h"
      ]
     },
     "execution_count": 25,
     "metadata": {},
     "output_type": "execute_result"
    }
   ],
   "source": [
    "merged_anno = human_anno.append(mouse_anno, sort=False)\n",
    "merged_anno.head()"
   ]
  },
  {
   "cell_type": "code",
   "execution_count": 36,
   "metadata": {},
   "outputs": [],
   "source": [
    "corrected_merged_dge.obs.to_csv(\"./merged/corrected_merged_dgeobs.csv\")"
   ]
  },
  {
   "cell_type": "code",
   "execution_count": 88,
   "metadata": {},
   "outputs": [
    {
     "data": {
      "text/html": [
       "<div>\n",
       "<style scoped>\n",
       "    .dataframe tbody tr th:only-of-type {\n",
       "        vertical-align: middle;\n",
       "    }\n",
       "\n",
       "    .dataframe tbody tr th {\n",
       "        vertical-align: top;\n",
       "    }\n",
       "\n",
       "    .dataframe thead th {\n",
       "        text-align: right;\n",
       "    }\n",
       "</style>\n",
       "<table border=\"1\" class=\"dataframe\">\n",
       "  <thead>\n",
       "    <tr style=\"text-align: right;\">\n",
       "      <th></th>\n",
       "      <th>Celltype</th>\n",
       "      <th>Species</th>\n",
       "      <th>Cluster</th>\n",
       "      <th>Sub_Cluster</th>\n",
       "    </tr>\n",
       "  </thead>\n",
       "  <tbody>\n",
       "    <tr>\n",
       "      <th>0</th>\n",
       "      <td>Apelin cells(H).z</td>\n",
       "      <td>Zebrafish</td>\n",
       "      <td>Apelin</td>\n",
       "      <td>Apelin</td>\n",
       "    </tr>\n",
       "    <tr>\n",
       "      <th>1</th>\n",
       "      <td>Apelin cells(P).z</td>\n",
       "      <td>Zebrafish</td>\n",
       "      <td>Apelin</td>\n",
       "      <td>Apelin</td>\n",
       "    </tr>\n",
       "    <tr>\n",
       "      <th>2</th>\n",
       "      <td>Brown.fat.m</td>\n",
       "      <td>Mouse</td>\n",
       "      <td>BrownFat</td>\n",
       "      <td>Muscle</td>\n",
       "    </tr>\n",
       "    <tr>\n",
       "      <th>3</th>\n",
       "      <td>Cnidocytean.n</td>\n",
       "      <td>Nematostella</td>\n",
       "      <td>Cnidocytean</td>\n",
       "      <td>Cnidocytean</td>\n",
       "    </tr>\n",
       "    <tr>\n",
       "      <th>4</th>\n",
       "      <td>Coelomocytes.c</td>\n",
       "      <td>Celegans</td>\n",
       "      <td>Coelomocytes</td>\n",
       "      <td>Coelomocytes</td>\n",
       "    </tr>\n",
       "  </tbody>\n",
       "</table>\n",
       "</div>"
      ],
      "text/plain": [
       "            Celltype       Species       Cluster   Sub_Cluster\n",
       "0  Apelin cells(H).z     Zebrafish        Apelin        Apelin\n",
       "1  Apelin cells(P).z     Zebrafish        Apelin        Apelin\n",
       "2        Brown.fat.m         Mouse      BrownFat        Muscle\n",
       "3      Cnidocytean.n  Nematostella   Cnidocytean   Cnidocytean\n",
       "4     Coelomocytes.c      Celegans  Coelomocytes  Coelomocytes"
      ]
     },
     "execution_count": 88,
     "metadata": {},
     "output_type": "execute_result"
    }
   ],
   "source": [
    "celltype_anno = pd.read_table(\"./merged/438celltype-NEW-20190728.annotation\", sep=',')\n",
    "celltype_anno['Cluster'] = celltype_anno['Cluster'].apply(lambda x: x.split('.')[0])\n",
    "celltype_anno['Sub_Cluster'] = celltype_anno['Sub_Cluster'].apply(lambda x: x.split('.')[0])\n",
    "celltype_anno.head()"
   ]
  },
  {
   "cell_type": "code",
   "execution_count": 89,
   "metadata": {},
   "outputs": [
    {
     "data": {
      "text/html": [
       "<div>\n",
       "<style scoped>\n",
       "    .dataframe tbody tr th:only-of-type {\n",
       "        vertical-align: middle;\n",
       "    }\n",
       "\n",
       "    .dataframe tbody tr th {\n",
       "        vertical-align: top;\n",
       "    }\n",
       "\n",
       "    .dataframe thead th {\n",
       "        text-align: right;\n",
       "    }\n",
       "</style>\n",
       "<table border=\"1\" class=\"dataframe\">\n",
       "  <thead>\n",
       "    <tr style=\"text-align: right;\">\n",
       "      <th></th>\n",
       "      <th>CellID</th>\n",
       "      <th>Tissue</th>\n",
       "      <th>Celltype</th>\n",
       "      <th>Species</th>\n",
       "      <th>Cluster</th>\n",
       "      <th>Sub_Cluster</th>\n",
       "    </tr>\n",
       "  </thead>\n",
       "  <tbody>\n",
       "    <tr>\n",
       "      <th>0</th>\n",
       "      <td>AdultDuodenum_1.AGGACTACAATACCGCTA</td>\n",
       "      <td>Human</td>\n",
       "      <td>Plasmocyte A.h</td>\n",
       "      <td>Human</td>\n",
       "      <td>Immune</td>\n",
       "      <td>Plasmocyte</td>\n",
       "    </tr>\n",
       "    <tr>\n",
       "      <th>1</th>\n",
       "      <td>AdultSpleenParenchyma_1.AGATGGGTTGCCACAATA</td>\n",
       "      <td>Human</td>\n",
       "      <td>Plasmocyte A.h</td>\n",
       "      <td>Human</td>\n",
       "      <td>Immune</td>\n",
       "      <td>Plasmocyte</td>\n",
       "    </tr>\n",
       "    <tr>\n",
       "      <th>2</th>\n",
       "      <td>AdultColon_1.CAAAGTACCTGAAACCTA</td>\n",
       "      <td>Human</td>\n",
       "      <td>Plasmocyte A.h</td>\n",
       "      <td>Human</td>\n",
       "      <td>Immune</td>\n",
       "      <td>Plasmocyte</td>\n",
       "    </tr>\n",
       "    <tr>\n",
       "      <th>3</th>\n",
       "      <td>AdultEsophagus_1.CGCACCCTGAAATGCGGA</td>\n",
       "      <td>Human</td>\n",
       "      <td>Plasmocyte A.h</td>\n",
       "      <td>Human</td>\n",
       "      <td>Immune</td>\n",
       "      <td>Plasmocyte</td>\n",
       "    </tr>\n",
       "    <tr>\n",
       "      <th>4</th>\n",
       "      <td>AdultSpleen_1.TGCAATACTTATGTCCCG</td>\n",
       "      <td>Human</td>\n",
       "      <td>Plasmocyte A.h</td>\n",
       "      <td>Human</td>\n",
       "      <td>Immune</td>\n",
       "      <td>Plasmocyte</td>\n",
       "    </tr>\n",
       "  </tbody>\n",
       "</table>\n",
       "</div>"
      ],
      "text/plain": [
       "                                       CellID Tissue        Celltype Species  \\\n",
       "0          AdultDuodenum_1.AGGACTACAATACCGCTA  Human  Plasmocyte A.h   Human   \n",
       "1  AdultSpleenParenchyma_1.AGATGGGTTGCCACAATA  Human  Plasmocyte A.h   Human   \n",
       "2             AdultColon_1.CAAAGTACCTGAAACCTA  Human  Plasmocyte A.h   Human   \n",
       "3         AdultEsophagus_1.CGCACCCTGAAATGCGGA  Human  Plasmocyte A.h   Human   \n",
       "4            AdultSpleen_1.TGCAATACTTATGTCCCG  Human  Plasmocyte A.h   Human   \n",
       "\n",
       "  Cluster Sub_Cluster  \n",
       "0  Immune  Plasmocyte  \n",
       "1  Immune  Plasmocyte  \n",
       "2  Immune  Plasmocyte  \n",
       "3  Immune  Plasmocyte  \n",
       "4  Immune  Plasmocyte  "
      ]
     },
     "execution_count": 89,
     "metadata": {},
     "output_type": "execute_result"
    }
   ],
   "source": [
    "merged_celltype_anno = pd.merge(merged_anno, celltype_anno, on=['Celltype'], how='inner')\n",
    "merged_celltype_anno.head()"
   ]
  },
  {
   "cell_type": "code",
   "execution_count": 90,
   "metadata": {},
   "outputs": [],
   "source": [
    "corrected_merged_dge.obs['cellID']=merged_celltype_anno['CellID'].values\n",
    "corrected_merged_dge.obs['Celltype']=merged_celltype_anno['Celltype'].values\n",
    "corrected_merged_dge.obs['Cluster']=merged_celltype_anno['Cluster'].values\n",
    "corrected_merged_dge.obs['Sub_Cluster']=merged_celltype_anno['Sub_Cluster'].values\n",
    "corrected_merged_dge.obs['Species']=merged_celltype_anno['Species'].values"
   ]
  },
  {
   "cell_type": "code",
   "execution_count": 85,
   "metadata": {},
   "outputs": [],
   "source": [
    "corrected_merged_dge.obs.to_csv(\"./merged/corrected_merged_dgeobs_annotated.csv\")"
   ]
  },
  {
   "cell_type": "code",
   "execution_count": 53,
   "metadata": {
    "scrolled": true
   },
   "outputs": [
    {
     "name": "stderr",
     "output_type": "stream",
     "text": [
      "... storing 'cellID' as categorical\n",
      "... storing 'Celltype' as categorical\n",
      "... storing 'Cluster' as categorical\n",
      "... storing 'Species' as categorical\n"
     ]
    },
    {
     "name": "stdout",
     "output_type": "stream",
     "text": [
      "saving figure to file ./figures/tsne_merged_celltype.png\n"
     ]
    },
    {
     "name": "stderr",
     "output_type": "stream",
     "text": [
      "/home/ggj/anaconda3/lib/python3.7/site-packages/matplotlib/figure.py:445: UserWarning: Matplotlib is currently using agg, which is a non-GUI backend, so cannot show the figure.\n",
      "  % get_backend())\n",
      "/home/ggj/anaconda3/lib/python3.7/site-packages/matplotlib/figure.py:445: UserWarning: Matplotlib is currently using agg, which is a non-GUI backend, so cannot show the figure.\n",
      "  % get_backend())\n",
      "/home/ggj/anaconda3/lib/python3.7/site-packages/matplotlib/figure.py:445: UserWarning: Matplotlib is currently using agg, which is a non-GUI backend, so cannot show the figure.\n",
      "  % get_backend())\n",
      "/home/ggj/anaconda3/lib/python3.7/site-packages/matplotlib/figure.py:445: UserWarning: Matplotlib is currently using agg, which is a non-GUI backend, so cannot show the figure.\n",
      "  % get_backend())\n"
     ]
    }
   ],
   "source": [
    "#col2 = [\"#E41A1C\",\"#E7298A\",\"#4DAF4A\",\"#6A3D9A\",\"#984EA3\",\"#1B9E77\",\"#66A61E\",\"#D95F02\",\"#A6761D\",\"#E6AB02\",\"#7570B3\", '#D9D9D9']\n",
    "#col2 = ['#D9D9D9','#D9D9D9','#D9D9D9','#D9D9D9','#D9D9D9','#D9D9D9','#D9D9D9','#D9D9D9','#D9D9D9','#D9D9D9', '#D9D9D9',\"#E41A1C\"]\n",
    "sc.pl.tsne(corrected_merged_dge, color='Cluster', palette=col2, save='_merged_celltype.png')"
   ]
  },
  {
   "cell_type": "code",
   "execution_count": 114,
   "metadata": {},
   "outputs": [
    {
     "name": "stdout",
     "output_type": "stream",
     "text": [
      "saving figure to file ./figures/tsne_merged_SubCelltype.pdf\n"
     ]
    },
    {
     "name": "stderr",
     "output_type": "stream",
     "text": [
      "/home/ggj/anaconda3/lib/python3.7/site-packages/matplotlib/figure.py:445: UserWarning: Matplotlib is currently using agg, which is a non-GUI backend, so cannot show the figure.\n",
      "  % get_backend())\n",
      "/home/ggj/anaconda3/lib/python3.7/site-packages/matplotlib/figure.py:445: UserWarning: Matplotlib is currently using agg, which is a non-GUI backend, so cannot show the figure.\n",
      "  % get_backend())\n",
      "/home/ggj/anaconda3/lib/python3.7/site-packages/matplotlib/figure.py:445: UserWarning: Matplotlib is currently using agg, which is a non-GUI backend, so cannot show the figure.\n",
      "  % get_backend())\n",
      "/home/ggj/anaconda3/lib/python3.7/site-packages/matplotlib/figure.py:445: UserWarning: Matplotlib is currently using agg, which is a non-GUI backend, so cannot show the figure.\n",
      "  % get_backend())\n",
      "/home/ggj/anaconda3/lib/python3.7/site-packages/matplotlib/figure.py:445: UserWarning: Matplotlib is currently using agg, which is a non-GUI backend, so cannot show the figure.\n",
      "  % get_backend())\n",
      "/home/ggj/anaconda3/lib/python3.7/site-packages/matplotlib/figure.py:445: UserWarning: Matplotlib is currently using agg, which is a non-GUI backend, so cannot show the figure.\n",
      "  % get_backend())\n",
      "/home/ggj/anaconda3/lib/python3.7/site-packages/matplotlib/figure.py:445: UserWarning: Matplotlib is currently using agg, which is a non-GUI backend, so cannot show the figure.\n",
      "  % get_backend())\n",
      "/home/ggj/anaconda3/lib/python3.7/site-packages/matplotlib/figure.py:445: UserWarning: Matplotlib is currently using agg, which is a non-GUI backend, so cannot show the figure.\n",
      "  % get_backend())\n",
      "/home/ggj/anaconda3/lib/python3.7/site-packages/matplotlib/figure.py:445: UserWarning: Matplotlib is currently using agg, which is a non-GUI backend, so cannot show the figure.\n",
      "  % get_backend())\n"
     ]
    }
   ],
   "source": [
    "sc.pl.tsne(corrected_merged_dge, color='Sub_Cluster', save='_merged_SubCelltype.pdf')"
   ]
  },
  {
   "cell_type": "code",
   "execution_count": 110,
   "metadata": {},
   "outputs": [
    {
     "name": "stdout",
     "output_type": "stream",
     "text": [
      "WARNING: Length of palette colors is smaller than the number of categories (palette length: 2, categories length: 12. Some categories will have the same color.\n",
      "saving figure to file ./figures/tsne_Secretory_Endothelial_SubCelltype.pdf\n"
     ]
    },
    {
     "name": "stderr",
     "output_type": "stream",
     "text": [
      "/home/ggj/anaconda3/lib/python3.7/site-packages/matplotlib/figure.py:445: UserWarning: Matplotlib is currently using agg, which is a non-GUI backend, so cannot show the figure.\n",
      "  % get_backend())\n",
      "/home/ggj/anaconda3/lib/python3.7/site-packages/matplotlib/figure.py:445: UserWarning: Matplotlib is currently using agg, which is a non-GUI backend, so cannot show the figure.\n",
      "  % get_backend())\n",
      "/home/ggj/anaconda3/lib/python3.7/site-packages/matplotlib/figure.py:445: UserWarning: Matplotlib is currently using agg, which is a non-GUI backend, so cannot show the figure.\n",
      "  % get_backend())\n",
      "/home/ggj/anaconda3/lib/python3.7/site-packages/matplotlib/figure.py:445: UserWarning: Matplotlib is currently using agg, which is a non-GUI backend, so cannot show the figure.\n",
      "  % get_backend())\n",
      "/home/ggj/anaconda3/lib/python3.7/site-packages/matplotlib/figure.py:445: UserWarning: Matplotlib is currently using agg, which is a non-GUI backend, so cannot show the figure.\n",
      "  % get_backend())\n",
      "/home/ggj/anaconda3/lib/python3.7/site-packages/matplotlib/figure.py:445: UserWarning: Matplotlib is currently using agg, which is a non-GUI backend, so cannot show the figure.\n",
      "  % get_backend())\n",
      "/home/ggj/anaconda3/lib/python3.7/site-packages/matplotlib/figure.py:445: UserWarning: Matplotlib is currently using agg, which is a non-GUI backend, so cannot show the figure.\n",
      "  % get_backend())\n",
      "/home/ggj/anaconda3/lib/python3.7/site-packages/matplotlib/figure.py:445: UserWarning: Matplotlib is currently using agg, which is a non-GUI backend, so cannot show the figure.\n",
      "  % get_backend())\n",
      "/home/ggj/anaconda3/lib/python3.7/site-packages/matplotlib/figure.py:445: UserWarning: Matplotlib is currently using agg, which is a non-GUI backend, so cannot show the figure.\n",
      "  % get_backend())\n"
     ]
    }
   ],
   "source": [
    "#sc.pl.tsne(corrected_merged_dge, color='Sub_Cluster', save='_merged_SubCelltype.pdf')\n",
    "sc.pl.tsne(corrected_merged_dge, color='Cluster', groups=['Secretory', 'Endothelial'], palette=['#E41A1C',\"#66A61E\"], save= '_Secretory_Endothelial' + '_SubCelltype.pdf')\n",
    "#for subcluster in corrected_merged_dge.obs['Cluster'].drop_duplicates():\n",
    "#   sc.pl.tsne(corrected_merged_dge, color='Cluster', groups=[subcluster], palette=['#E41A1C'], save= '_' + subcluster + '_Celltype.pdf')"
   ]
  },
  {
   "cell_type": "code",
   "execution_count": 55,
   "metadata": {},
   "outputs": [
    {
     "name": "stdout",
     "output_type": "stream",
     "text": [
      "saving figure to file ./figures/tsne_batch_merged.pdf\n"
     ]
    },
    {
     "name": "stderr",
     "output_type": "stream",
     "text": [
      "/home/ggj/anaconda3/lib/python3.7/site-packages/matplotlib/figure.py:445: UserWarning: Matplotlib is currently using agg, which is a non-GUI backend, so cannot show the figure.\n",
      "  % get_backend())\n",
      "/home/ggj/anaconda3/lib/python3.7/site-packages/matplotlib/figure.py:445: UserWarning: Matplotlib is currently using agg, which is a non-GUI backend, so cannot show the figure.\n",
      "  % get_backend())\n",
      "/home/ggj/anaconda3/lib/python3.7/site-packages/matplotlib/figure.py:445: UserWarning: Matplotlib is currently using agg, which is a non-GUI backend, so cannot show the figure.\n",
      "  % get_backend())\n",
      "/home/ggj/anaconda3/lib/python3.7/site-packages/matplotlib/figure.py:445: UserWarning: Matplotlib is currently using agg, which is a non-GUI backend, so cannot show the figure.\n",
      "  % get_backend())\n"
     ]
    }
   ],
   "source": [
    "col1=[\"#2685cb\", \"#fd8d14\"]\n",
    "sc.pl.tsne(corrected_merged_dge, color='Species', palette=col1, save='_batch_merged.pdf')"
   ]
  },
  {
   "cell_type": "code",
   "execution_count": 61,
   "metadata": {},
   "outputs": [],
   "source": [
    "sc.tl.umap(corrected_merged_dge)"
   ]
  },
  {
   "cell_type": "code",
   "execution_count": 62,
   "metadata": {},
   "outputs": [
    {
     "name": "stdout",
     "output_type": "stream",
     "text": [
      "saving figure to file ./figures/umap_umap_merged_celltype.pdf\n"
     ]
    },
    {
     "name": "stderr",
     "output_type": "stream",
     "text": [
      "/home/ggj/anaconda3/lib/python3.7/site-packages/matplotlib/figure.py:445: UserWarning: Matplotlib is currently using agg, which is a non-GUI backend, so cannot show the figure.\n",
      "  % get_backend())\n",
      "/home/ggj/anaconda3/lib/python3.7/site-packages/matplotlib/figure.py:445: UserWarning: Matplotlib is currently using agg, which is a non-GUI backend, so cannot show the figure.\n",
      "  % get_backend())\n"
     ]
    }
   ],
   "source": [
    "sc.pl.umap(corrected_merged_dge, color='Cluster', palette=col2, save='_umap_merged_celltype.pdf')"
   ]
  },
  {
   "cell_type": "code",
   "execution_count": 68,
   "metadata": {},
   "outputs": [],
   "source": [
    "sc.tl.louvain(corrected_merged_dge)\n",
    "sc.tl.rank_genes_groups(corrected_merged_dge, 'louvain', method='wilcoxon')"
   ]
  },
  {
   "cell_type": "code",
   "execution_count": 70,
   "metadata": {},
   "outputs": [],
   "source": [
    "result = corrected_merged_dge.uns['rank_genes_groups']\n",
    "groups = result['names'].dtype.names\n",
    "marker_genes = pd.DataFrame(\n",
    "    {group + '_' + key[:1]: result[key][group]\n",
    "    for group in groups for key in ['names', 'pvals']})"
   ]
  },
  {
   "cell_type": "code",
   "execution_count": 72,
   "metadata": {
    "scrolled": true
   },
   "outputs": [],
   "source": [
    "marker_genes.to_csv(\"./merged/marker_genes.csv\")"
   ]
  },
  {
   "cell_type": "code",
   "execution_count": 74,
   "metadata": {
    "scrolled": true
   },
   "outputs": [
    {
     "name": "stdout",
     "output_type": "stream",
     "text": [
      "<bound method AnnData.obs_keys of AnnData object with n_obs × n_vars = 47105 × 2760 \n",
      "    obs: 'batch', 'n_counts', 'cellID', 'Celltype', 'Cluster', 'Species', 'louvain'\n",
      "    uns: 'pca', 'neighbors', 'batch_colors', 'Cluster_colors', 'Species_colors', 'louvain', 'rank_genes_groups'\n",
      "    obsm: 'X_pca', 'X_tsne'\n",
      "    varm: 'PCs'>\n",
      "saving figure to file ./figures/tsne_louvain_merged.pdf\n"
     ]
    },
    {
     "name": "stderr",
     "output_type": "stream",
     "text": [
      "/home/ggj/anaconda3/lib/python3.7/site-packages/matplotlib/figure.py:445: UserWarning: Matplotlib is currently using agg, which is a non-GUI backend, so cannot show the figure.\n",
      "  % get_backend())\n",
      "/home/ggj/anaconda3/lib/python3.7/site-packages/matplotlib/figure.py:445: UserWarning: Matplotlib is currently using agg, which is a non-GUI backend, so cannot show the figure.\n",
      "  % get_backend())\n",
      "/home/ggj/anaconda3/lib/python3.7/site-packages/matplotlib/figure.py:445: UserWarning: Matplotlib is currently using agg, which is a non-GUI backend, so cannot show the figure.\n",
      "  % get_backend())\n",
      "/home/ggj/anaconda3/lib/python3.7/site-packages/matplotlib/figure.py:445: UserWarning: Matplotlib is currently using agg, which is a non-GUI backend, so cannot show the figure.\n",
      "  % get_backend())\n"
     ]
    }
   ],
   "source": [
    "print(corrected_merged_dge.obs_keys)\n",
    "sc.pl.tsne(corrected_merged_dge, color='louvain', save='_louvain_merged.pdf')"
   ]
  },
  {
   "cell_type": "code",
   "execution_count": 115,
   "metadata": {},
   "outputs": [],
   "source": [
    "corrected_merged_dge.write('./merged/corrected_merged_mouse_human_dge.h5ad')"
   ]
  },
  {
   "cell_type": "code",
   "execution_count": null,
   "metadata": {},
   "outputs": [],
   "source": []
  }
 ],
 "metadata": {
  "kernelspec": {
   "display_name": "Python 3",
   "language": "python",
   "name": "python3"
  },
  "language_info": {
   "codemirror_mode": {
    "name": "ipython",
    "version": 3
   },
   "file_extension": ".py",
   "mimetype": "text/x-python",
   "name": "python",
   "nbconvert_exporter": "python",
   "pygments_lexer": "ipython3",
   "version": "3.7.3"
  }
 },
 "nbformat": 4,
 "nbformat_minor": 2
}
